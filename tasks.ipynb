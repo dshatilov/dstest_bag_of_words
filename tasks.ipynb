{
 "cells": [
  {
   "cell_type": "code",
   "execution_count": null,
   "metadata": {},
   "outputs": [],
   "source": [
    "# подключаем библиотеки\n",
    "import warnings\n",
    "warnings.filterwarnings('ignore')\n",
    "import pandas as pd\n",
    "import numpy as np\n",
    "from sklearn.model_selection import train_test_split, StratifiedKFold\n",
    "from sklearn.model_selection import cross_val_score\n",
    "from sklearn.feature_extraction.text import CountVectorizer\n",
    "from sklearn.neighbors import KNeighborsClassifier\n",
    "from sklearn.ensemble import RandomForestClassifier\n",
    "from sklearn.naive_bayes import MultinomialNB\n",
    "from sklearn.grid_search import GridSearchCV"
   ]
  },
  {
   "cell_type": "code",
   "execution_count": 2,
   "metadata": {},
   "outputs": [],
   "source": [
    "# загружаем данные \n",
    "data = pd.read_csv(\"train.csv\")"
   ]
  },
  {
   "cell_type": "code",
   "execution_count": 41,
   "metadata": {},
   "outputs": [],
   "source": [
    "# нормализация\n",
    "# data.name = data.name.str.lower()\n",
    "# data.name = data.name.str.replace(u'\"',u'')\n",
    "# data.name = data.name.str.replace(u'[\\/ \\( \\) \\*]',u' ')\n",
    "# data.name = data.name.str.replace(u'  *',' ')\n",
    "# data.name = data.name.str.replace(u' - ?', u'-')"
   ]
  },
  {
   "cell_type": "markdown",
   "metadata": {},
   "source": [
    "С кросс валидацией"
   ]
  },
  {
   "cell_type": "code",
   "execution_count": 3,
   "metadata": {},
   "outputs": [],
   "source": [
    "# создаём словарь всех слов присутствующих в выборке\n",
    "cv = CountVectorizer()\n",
    "# векторизируем словарь\n",
    "X_train_counts = cv.fit_transform(data.name)\n",
    "# создаём классификатор и обучаем его на тестовой выборке"
   ]
  },
  {
   "cell_type": "code",
   "execution_count": 4,
   "metadata": {},
   "outputs": [],
   "source": [
    "clf = MultinomialNB()\n",
    "knn = KNeighborsClassifier(n_neighbors=1,weights = 'uniform')\n",
    "knn2 = KNeighborsClassifier(n_neighbors=3,weights = 'distance')\n",
    "rf = RandomForestClassifier(n_estimators=600)"
   ]
  },
  {
   "cell_type": "code",
   "execution_count": 5,
   "metadata": {},
   "outputs": [
    {
     "name": "stdout",
     "output_type": "stream",
     "text": [
      "CPU times: user 401 ms, sys: 3.05 ms, total: 404 ms\n",
      "Wall time: 432 ms\n"
     ]
    }
   ],
   "source": [
    "%%time\n",
    "# производим кросс валидацию и выводим полученный массив и среднее\n",
    "clf_score = cross_val_score(clf, X_train_counts, data.tare)"
   ]
  },
  {
   "cell_type": "code",
   "execution_count": 6,
   "metadata": {},
   "outputs": [
    {
     "name": "stdout",
     "output_type": "stream",
     "text": [
      "CPU times: user 21min 53s, sys: 4.15 s, total: 21min 57s\n",
      "Wall time: 22min\n"
     ]
    }
   ],
   "source": [
    "%%time\n",
    "rf_score = cross_val_score(rf, X_train_counts, data.tare)"
   ]
  },
  {
   "cell_type": "code",
   "execution_count": 5,
   "metadata": {},
   "outputs": [
    {
     "name": "stdout",
     "output_type": "stream",
     "text": [
      "CPU times: user 7.64 s, sys: 5.08 s, total: 12.7 s\n",
      "Wall time: 13.1 s\n"
     ]
    }
   ],
   "source": [
    "%%time\n",
    "knn_score = cross_val_score(knn, X_train_counts, data.tare)"
   ]
  },
  {
   "cell_type": "code",
   "execution_count": 6,
   "metadata": {},
   "outputs": [
    {
     "name": "stdout",
     "output_type": "stream",
     "text": [
      "CPU times: user 9.69 s, sys: 4.86 s, total: 14.5 s\n",
      "Wall time: 14.7 s\n"
     ]
    }
   ],
   "source": [
    "%%time\n",
    "knn2_score = cross_val_score(knn2, X_train_counts, data.tare)"
   ]
  },
  {
   "cell_type": "code",
   "execution_count": 8,
   "metadata": {},
   "outputs": [
    {
     "name": "stdout",
     "output_type": "stream",
     "text": [
      "[0.76713137 0.77493172 0.77111636]\n",
      "clf 77.105982%\n"
     ]
    }
   ],
   "source": [
    "print('{}\\nclf {:%}'.format(clf_score, clf_score.mean()))"
   ]
  },
  {
   "cell_type": "code",
   "execution_count": 9,
   "metadata": {},
   "outputs": [
    {
     "name": "stdout",
     "output_type": "stream",
     "text": [
      "[0.83698458 0.83989075 0.83919079]\n",
      "rf 83.868871%\n"
     ]
    }
   ],
   "source": [
    "print('{}\\nrf {:%}'.format(rf_score, rf_score.mean()))"
   ]
  },
  {
   "cell_type": "code",
   "execution_count": 7,
   "metadata": {},
   "outputs": [
    {
     "name": "stdout",
     "output_type": "stream",
     "text": [
      "[0.80489784 0.81265225 0.80456291]\n",
      "knn 80.737100% \n"
     ]
    }
   ],
   "source": [
    "print('{}\\nknn {:%} '.format(knn_score, knn_score.mean()))"
   ]
  },
  {
   "cell_type": "code",
   "execution_count": 8,
   "metadata": {},
   "outputs": [
    {
     "name": "stdout",
     "output_type": "stream",
     "text": [
      "[0.80792211 0.81250461 0.80404607]\n",
      "knn2 80.815760% \n"
     ]
    }
   ],
   "source": [
    "print('{}\\nknn2 {:%} '.format(knn2_score, knn2_score.mean()))"
   ]
  },
  {
   "cell_type": "markdown",
   "metadata": {},
   "source": [
    "Без кросс валидации"
   ]
  },
  {
   "cell_type": "code",
   "execution_count": 3,
   "metadata": {},
   "outputs": [],
   "source": [
    "# разбиваем их на обучающую и тестовую выборки\n",
    "X_train, X_holdout, y_train, y_holdout = train_test_split(data.name, data.tare, test_size=0.3, random_state=17)"
   ]
  },
  {
   "cell_type": "code",
   "execution_count": 4,
   "metadata": {},
   "outputs": [],
   "source": [
    "# создаём словарь всех слов присутствующих в выборке\n",
    "cv = CountVectorizer()\n",
    "# векторизируем словарь без кросс валидации\n",
    "X_train_counts = cv.fit_transform(X_train)\n",
    "# вектроризируем тестовую выборку ранее составленным словарём\n",
    "X_test_count = cv.transform(X_holdout)"
   ]
  },
  {
   "cell_type": "code",
   "execution_count": 5,
   "metadata": {},
   "outputs": [
    {
     "name": "stdout",
     "output_type": "stream",
     "text": [
      "CPU times: user 77.5 ms, sys: 4.1 ms, total: 81.6 ms\n",
      "Wall time: 81 ms\n"
     ]
    }
   ],
   "source": [
    "%%time\n",
    "# создаём классификатор и обучаем его на тестовой выборке\n",
    "clf = MultinomialNB().fit(X_train_counts, y_train)"
   ]
  },
  {
   "cell_type": "code",
   "execution_count": 6,
   "metadata": {},
   "outputs": [
    {
     "name": "stdout",
     "output_type": "stream",
     "text": [
      "CPU times: user 36 µs, sys: 0 ns, total: 36 µs\n",
      "Wall time: 37.9 µs\n"
     ]
    }
   ],
   "source": [
    "%%time\n",
    "# создаём класификатор методом случайного леса\n",
    "rf = RandomForestClassifier(n_estimators=600)"
   ]
  },
  {
   "cell_type": "code",
   "execution_count": 7,
   "metadata": {},
   "outputs": [
    {
     "name": "stdout",
     "output_type": "stream",
     "text": [
      "CPU times: user 5min 6s, sys: 1.08 s, total: 5min 7s\n",
      "Wall time: 5min 7s\n"
     ]
    },
    {
     "data": {
      "text/plain": [
       "RandomForestClassifier(bootstrap=True, class_weight=None, criterion='gini',\n",
       "            max_depth=None, max_features='auto', max_leaf_nodes=None,\n",
       "            min_impurity_decrease=0.0, min_impurity_split=None,\n",
       "            min_samples_leaf=1, min_samples_split=2,\n",
       "            min_weight_fraction_leaf=0.0, n_estimators=600, n_jobs=1,\n",
       "            oob_score=False, random_state=None, verbose=0,\n",
       "            warm_start=False)"
      ]
     },
     "execution_count": 7,
     "metadata": {},
     "output_type": "execute_result"
    }
   ],
   "source": [
    "%%time\n",
    "#обучаем классифкатор\n",
    "rf.fit(X_train_counts, y_train);"
   ]
  },
  {
   "cell_type": "code",
   "execution_count": 5,
   "metadata": {},
   "outputs": [
    {
     "name": "stdout",
     "output_type": "stream",
     "text": [
      "CPU times: user 18 µs, sys: 1 µs, total: 19 µs\n",
      "Wall time: 21.2 µs\n"
     ]
    }
   ],
   "source": [
    "%%time\n",
    "# создаём класификатор методом ближайших соседей\n",
    "knn = KNeighborsClassifier(n_neighbors=1,weights = 'uniform')"
   ]
  },
  {
   "cell_type": "code",
   "execution_count": 6,
   "metadata": {},
   "outputs": [
    {
     "name": "stdout",
     "output_type": "stream",
     "text": [
      "CPU times: user 25.9 ms, sys: 72 µs, total: 26 ms\n",
      "Wall time: 25.7 ms\n"
     ]
    },
    {
     "data": {
      "text/plain": [
       "KNeighborsClassifier(algorithm='auto', leaf_size=30, metric='minkowski',\n",
       "           metric_params=None, n_jobs=1, n_neighbors=1, p=2,\n",
       "           weights='uniform')"
      ]
     },
     "execution_count": 6,
     "metadata": {},
     "output_type": "execute_result"
    }
   ],
   "source": [
    "%%time\n",
    "#обучаем классифкатор\n",
    "knn.fit(X_train_counts, y_train);"
   ]
  },
  {
   "cell_type": "code",
   "execution_count": 7,
   "metadata": {},
   "outputs": [
    {
     "name": "stdout",
     "output_type": "stream",
     "text": [
      "CPU times: user 15 µs, sys: 1 µs, total: 16 µs\n",
      "Wall time: 17.9 µs\n"
     ]
    }
   ],
   "source": [
    "%%time\n",
    "# создаём класификатор методом ближайших соседей\n",
    "knn2 = KNeighborsClassifier(n_neighbors=3,weights = 'distance')"
   ]
  },
  {
   "cell_type": "code",
   "execution_count": 8,
   "metadata": {},
   "outputs": [
    {
     "name": "stdout",
     "output_type": "stream",
     "text": [
      "CPU times: user 24.2 ms, sys: 0 ns, total: 24.2 ms\n",
      "Wall time: 23.6 ms\n"
     ]
    },
    {
     "data": {
      "text/plain": [
       "KNeighborsClassifier(algorithm='auto', leaf_size=30, metric='minkowski',\n",
       "           metric_params=None, n_jobs=1, n_neighbors=3, p=2,\n",
       "           weights='distance')"
      ]
     },
     "execution_count": 8,
     "metadata": {},
     "output_type": "execute_result"
    }
   ],
   "source": [
    "%%time\n",
    "knn2.fit(X_train_counts, y_train);"
   ]
  },
  {
   "cell_type": "code",
   "execution_count": 8,
   "metadata": {},
   "outputs": [
    {
     "name": "stdout",
     "output_type": "stream",
     "text": [
      "clf 77.613776% \n",
      "CPU times: user 15 ms, sys: 7 µs, total: 15 ms\n",
      "Wall time: 14 ms\n"
     ]
    }
   ],
   "source": [
    "%%time\n",
    "#вывод показателей точности предсказания по 3м моделям\n",
    "print('clf {:%} '.format(clf.score(X_test_count,y_holdout)))"
   ]
  },
  {
   "cell_type": "code",
   "execution_count": 9,
   "metadata": {},
   "outputs": [
    {
     "name": "stdout",
     "output_type": "stream",
     "text": [
      "RF 83.599836% \n",
      "CPU times: user 5.45 s, sys: 18 µs, total: 5.45 s\n",
      "Wall time: 5.46 s\n"
     ]
    }
   ],
   "source": [
    "%%time\n",
    "print('RF {:%} '.format(rf.score(X_test_count,y_holdout)))"
   ]
  },
  {
   "cell_type": "code",
   "execution_count": 9,
   "metadata": {},
   "outputs": [
    {
     "name": "stdout",
     "output_type": "stream",
     "text": [
      "kNN 82.050021% \n",
      "CPU times: user 2.4 s, sys: 1.7 s, total: 4.1 s\n",
      "Wall time: 4.67 s\n"
     ]
    }
   ],
   "source": [
    "%%time\n",
    "print('kNN {:%} '.format(knn.score(X_test_count,y_holdout)))"
   ]
  },
  {
   "cell_type": "code",
   "execution_count": 10,
   "metadata": {},
   "outputs": [
    {
     "name": "stdout",
     "output_type": "stream",
     "text": [
      "kNN2 81.558016% \n",
      "CPU times: user 3 s, sys: 1.6 s, total: 4.6 s\n",
      "Wall time: 8.92 s\n"
     ]
    }
   ],
   "source": [
    "%%time\n",
    "print('kNN2 {:%} '.format(knn2.score(X_test_count,y_holdout)))"
   ]
  },
  {
   "cell_type": "markdown",
   "metadata": {},
   "source": [
    "Анализ данных"
   ]
  },
  {
   "cell_type": "code",
   "execution_count": 3,
   "metadata": {},
   "outputs": [],
   "source": [
    "# Обучаем алгоритмы на полной выборке для проведения графического анализа.\n",
    "cv = CountVectorizer()\n",
    "X_train_counts = cv.fit_transform(data.name)"
   ]
  },
  {
   "cell_type": "code",
   "execution_count": 4,
   "metadata": {},
   "outputs": [
    {
     "name": "stdout",
     "output_type": "stream",
     "text": [
      "Wall time: 1.1 s\n"
     ]
    }
   ],
   "source": [
    "%%time\n",
    "clf = MultinomialNB().fit(X_train_counts, data.tare)"
   ]
  },
  {
   "cell_type": "code",
   "execution_count": 5,
   "metadata": {},
   "outputs": [
    {
     "name": "stdout",
     "output_type": "stream",
     "text": [
      "Wall time: 37 ms\n"
     ]
    }
   ],
   "source": [
    "%%time\n",
    "knn = KNeighborsClassifier(n_neighbors=1,weights = 'uniform')\n",
    "knn.fit(X_train_counts, data.tare)"
   ]
  },
  {
   "cell_type": "code",
   "execution_count": 6,
   "metadata": {},
   "outputs": [
    {
     "name": "stdout",
     "output_type": "stream",
     "text": [
      "Wall time: 38 ms\n"
     ]
    }
   ],
   "source": [
    "%%time\n",
    "knn2 = KNeighborsClassifier(n_neighbors=3,weights = 'distance')\n",
    "knn2.fit(X_train_counts, data.tare)"
   ]
  },
  {
   "cell_type": "code",
   "execution_count": 7,
   "metadata": {},
   "outputs": [
    {
     "name": "stdout",
     "output_type": "stream",
     "text": [
      "Wall time: 15min 6s\n"
     ]
    }
   ],
   "source": [
    "%%time\n",
    "rf = RandomForestClassifier(n_estimators=600)\n",
    "rf.fit(X_train_counts, data.tare)"
   ]
  },
  {
   "cell_type": "code",
   "execution_count": 6,
   "metadata": {},
   "outputs": [],
   "source": [
    "# предсказываем на тестовой выборке и сохраняем в файлы\n",
    "data_test = pd.read_csv(\"test.csv\")\n",
    "X_test_counts = cv.transform(data_test.name)\n",
    "split_test1, split_test2 = train_test_split(data_test.name, test_size=0.5)\n",
    "X_test_counts1 = cv.transform(split_test1)\n",
    "X_test_counts2 = cv.transform(split_test2)"
   ]
  },
  {
   "cell_type": "code",
   "execution_count": 7,
   "metadata": {},
   "outputs": [
    {
     "name": "stdout",
     "output_type": "stream",
     "text": [
      "CPU times: user 63.4 ms, sys: 3.04 ms, total: 66.5 ms\n",
      "Wall time: 78.7 ms\n"
     ]
    }
   ],
   "source": [
    "%%time\n",
    "predict_clf = clf.predict(X_test_counts);\n",
    "df = pd.DataFrame({'name': data_test.name, 'predicted': predict_clf}).to_csv(\"predict_clf.csv\")"
   ]
  },
  {
   "cell_type": "code",
   "execution_count": 12,
   "metadata": {},
   "outputs": [
    {
     "name": "stdout",
     "output_type": "stream",
     "text": [
      "CPU times: user 2.77 s, sys: 1.85 s, total: 4.63 s\n",
      "Wall time: 5.92 s\n"
     ]
    }
   ],
   "source": [
    "%%time\n",
    "predict1_knn = knn.predict(X_test_counts1);"
   ]
  },
  {
   "cell_type": "code",
   "execution_count": 13,
   "metadata": {},
   "outputs": [
    {
     "name": "stdout",
     "output_type": "stream",
     "text": [
      "CPU times: user 2.77 s, sys: 1.82 s, total: 4.59 s\n",
      "Wall time: 4.87 s\n"
     ]
    }
   ],
   "source": [
    "%%time\n",
    "predict2_knn = knn.predict(X_test_counts2);"
   ]
  },
  {
   "cell_type": "code",
   "execution_count": 21,
   "metadata": {},
   "outputs": [],
   "source": [
    "df = pd.DataFrame({'name': split_test1, 'predicted': predict1_knn})\n",
    "df2 = pd.DataFrame({'name': split_test2, 'predicted': predict2_knn})\n",
    "df = df.append(df2)\n",
    "df.to_csv(\"predict_knn.csv\")"
   ]
  },
  {
   "cell_type": "code",
   "execution_count": 27,
   "metadata": {
    "scrolled": true
   },
   "outputs": [
    {
     "name": "stdout",
     "output_type": "stream",
     "text": [
      "CPU times: user 3.48 s, sys: 1.82 s, total: 5.3 s\n",
      "Wall time: 7.84 s\n"
     ]
    }
   ],
   "source": [
    "%%time\n",
    "predict1_knn2 = knn2.predict(X_test_counts1);"
   ]
  },
  {
   "cell_type": "code",
   "execution_count": 28,
   "metadata": {},
   "outputs": [
    {
     "name": "stdout",
     "output_type": "stream",
     "text": [
      "CPU times: user 3.39 s, sys: 1.85 s, total: 5.24 s\n",
      "Wall time: 5.35 s\n"
     ]
    }
   ],
   "source": [
    "%%time\n",
    "predict2_knn2 = knn2.predict(X_test_counts2);"
   ]
  },
  {
   "cell_type": "code",
   "execution_count": 29,
   "metadata": {},
   "outputs": [],
   "source": [
    "df = pd.DataFrame({'name': split_test1, 'predicted': predict1_knn2})\n",
    "df2 = pd.DataFrame({'name': split_test2, 'predicted': predict2_knn2})\n",
    "df = df.append(df2)\n",
    "df.to_csv(\"predict_knn2.csv\")"
   ]
  },
  {
   "cell_type": "code",
   "execution_count": 8,
   "metadata": {},
   "outputs": [
    {
     "name": "stdout",
     "output_type": "stream",
     "text": [
      "CPU times: user 9.6 s, sys: 3.99 ms, total: 9.6 s\n",
      "Wall time: 9.64 s\n"
     ]
    }
   ],
   "source": [
    "%%time\n",
    "predict_rf = rf.predict(X_test_counts);\n",
    "df = pd.DataFrame({'name': data_test.name, 'predicted': predict_rf}).to_csv(\"predict_rf.csv\")"
   ]
  },
  {
   "cell_type": "code",
   "execution_count": 3,
   "metadata": {},
   "outputs": [],
   "source": [
    "# Загружаем полученные файлы в память\n",
    "df_clf = pd.read_csv(\"predict_clf.csv\")\n",
    "df_knn = pd.read_csv(\"predict_knn.csv\")\n",
    "df_knn2 = pd.read_csv(\"predict_knn2.csv\")\n",
    "df_rf = pd.read_csv(\"predict_rf.csv\")"
   ]
  },
  {
   "cell_type": "code",
   "execution_count": 176,
   "metadata": {},
   "outputs": [
    {
     "data": {
      "text/html": [
       "<div>\n",
       "<style scoped>\n",
       "    .dataframe tbody tr th:only-of-type {\n",
       "        vertical-align: middle;\n",
       "    }\n",
       "\n",
       "    .dataframe tbody tr th {\n",
       "        vertical-align: top;\n",
       "    }\n",
       "\n",
       "    .dataframe thead th {\n",
       "        text-align: right;\n",
       "    }\n",
       "</style>\n",
       "<table border=\"1\" class=\"dataframe\">\n",
       "  <thead>\n",
       "    <tr style=\"text-align: right;\">\n",
       "      <th></th>\n",
       "      <th>tare</th>\n",
       "      <th>real</th>\n",
       "      <th>clf</th>\n",
       "      <th>knn</th>\n",
       "      <th>knn2</th>\n",
       "      <th>rf</th>\n",
       "    </tr>\n",
       "  </thead>\n",
       "  <tbody>\n",
       "    <tr>\n",
       "      <th>0</th>\n",
       "      <td>пакет без формы</td>\n",
       "      <td>0.222102</td>\n",
       "      <td>0.288709</td>\n",
       "      <td>0.220409</td>\n",
       "      <td>0.209194</td>\n",
       "      <td>0.304521</td>\n",
       "    </tr>\n",
       "    <tr>\n",
       "      <th>1</th>\n",
       "      <td>бутылка</td>\n",
       "      <td>0.183871</td>\n",
       "      <td>0.203637</td>\n",
       "      <td>0.184339</td>\n",
       "      <td>0.235261</td>\n",
       "      <td>0.202273</td>\n",
       "    </tr>\n",
       "    <tr>\n",
       "      <th>2</th>\n",
       "      <td>коробка</td>\n",
       "      <td>0.103228</td>\n",
       "      <td>0.103359</td>\n",
       "      <td>0.096236</td>\n",
       "      <td>0.096287</td>\n",
       "      <td>0.092751</td>\n",
       "    </tr>\n",
       "    <tr>\n",
       "      <th>3</th>\n",
       "      <td>пакет прямоугольный</td>\n",
       "      <td>0.086130</td>\n",
       "      <td>0.073402</td>\n",
       "      <td>0.090326</td>\n",
       "      <td>0.086032</td>\n",
       "      <td>0.075322</td>\n",
       "    </tr>\n",
       "    <tr>\n",
       "      <th>4</th>\n",
       "      <td>обертка</td>\n",
       "      <td>0.079143</td>\n",
       "      <td>0.087093</td>\n",
       "      <td>0.072796</td>\n",
       "      <td>0.072190</td>\n",
       "      <td>0.063905</td>\n",
       "    </tr>\n",
       "    <tr>\n",
       "      <th>5</th>\n",
       "      <td>банка неметаллическая</td>\n",
       "      <td>0.055058</td>\n",
       "      <td>0.061581</td>\n",
       "      <td>0.049861</td>\n",
       "      <td>0.055216</td>\n",
       "      <td>0.057388</td>\n",
       "    </tr>\n",
       "    <tr>\n",
       "      <th>6</th>\n",
       "      <td>стаканчик</td>\n",
       "      <td>0.050925</td>\n",
       "      <td>0.043445</td>\n",
       "      <td>0.040414</td>\n",
       "      <td>0.030311</td>\n",
       "      <td>0.034403</td>\n",
       "    </tr>\n",
       "    <tr>\n",
       "      <th>7</th>\n",
       "      <td>банка металлическая</td>\n",
       "      <td>0.045193</td>\n",
       "      <td>0.035817</td>\n",
       "      <td>0.041121</td>\n",
       "      <td>0.043799</td>\n",
       "      <td>0.041172</td>\n",
       "    </tr>\n",
       "    <tr>\n",
       "      <th>8</th>\n",
       "      <td>вакуумная упаковка</td>\n",
       "      <td>0.026348</td>\n",
       "      <td>0.024400</td>\n",
       "      <td>0.063349</td>\n",
       "      <td>0.039808</td>\n",
       "      <td>0.022076</td>\n",
       "    </tr>\n",
       "    <tr>\n",
       "      <th>9</th>\n",
       "      <td>усадочная упаковка</td>\n",
       "      <td>0.024429</td>\n",
       "      <td>0.009245</td>\n",
       "      <td>0.020056</td>\n",
       "      <td>0.014398</td>\n",
       "      <td>0.011670</td>\n",
       "    </tr>\n",
       "    <tr>\n",
       "      <th>10</th>\n",
       "      <td>контейнер</td>\n",
       "      <td>0.021748</td>\n",
       "      <td>0.015559</td>\n",
       "      <td>0.024804</td>\n",
       "      <td>0.023289</td>\n",
       "      <td>0.018591</td>\n",
       "    </tr>\n",
       "    <tr>\n",
       "      <th>11</th>\n",
       "      <td>пачка</td>\n",
       "      <td>0.017000</td>\n",
       "      <td>0.004446</td>\n",
       "      <td>0.013943</td>\n",
       "      <td>0.011821</td>\n",
       "      <td>0.010508</td>\n",
       "    </tr>\n",
       "    <tr>\n",
       "      <th>12</th>\n",
       "      <td>лоток</td>\n",
       "      <td>0.015450</td>\n",
       "      <td>0.009346</td>\n",
       "      <td>0.018439</td>\n",
       "      <td>0.014600</td>\n",
       "      <td>0.011063</td>\n",
       "    </tr>\n",
       "    <tr>\n",
       "      <th>13</th>\n",
       "      <td>туба</td>\n",
       "      <td>0.014490</td>\n",
       "      <td>0.016115</td>\n",
       "      <td>0.010356</td>\n",
       "      <td>0.010356</td>\n",
       "      <td>0.011720</td>\n",
       "    </tr>\n",
       "    <tr>\n",
       "      <th>14</th>\n",
       "      <td>гофрокороб</td>\n",
       "      <td>0.010308</td>\n",
       "      <td>0.002880</td>\n",
       "      <td>0.012074</td>\n",
       "      <td>0.016772</td>\n",
       "      <td>0.006820</td>\n",
       "    </tr>\n",
       "    <tr>\n",
       "      <th>15</th>\n",
       "      <td>колбасная оболочка</td>\n",
       "      <td>0.009742</td>\n",
       "      <td>0.006820</td>\n",
       "      <td>0.008689</td>\n",
       "      <td>0.009396</td>\n",
       "      <td>0.008487</td>\n",
       "    </tr>\n",
       "    <tr>\n",
       "      <th>16</th>\n",
       "      <td>тортница</td>\n",
       "      <td>0.007971</td>\n",
       "      <td>0.005607</td>\n",
       "      <td>0.012276</td>\n",
       "      <td>0.009295</td>\n",
       "      <td>0.008841</td>\n",
       "    </tr>\n",
       "    <tr>\n",
       "      <th>17</th>\n",
       "      <td>без упаковки</td>\n",
       "      <td>0.007922</td>\n",
       "      <td>0.000859</td>\n",
       "      <td>0.006820</td>\n",
       "      <td>0.008740</td>\n",
       "      <td>0.003991</td>\n",
       "    </tr>\n",
       "    <tr>\n",
       "      <th>18</th>\n",
       "      <td>упаковка с газовым наполнением</td>\n",
       "      <td>0.007110</td>\n",
       "      <td>0.004900</td>\n",
       "      <td>0.005709</td>\n",
       "      <td>0.005860</td>\n",
       "      <td>0.007426</td>\n",
       "    </tr>\n",
       "    <tr>\n",
       "      <th>19</th>\n",
       "      <td>ведро</td>\n",
       "      <td>0.006224</td>\n",
       "      <td>0.001718</td>\n",
       "      <td>0.004597</td>\n",
       "      <td>0.004597</td>\n",
       "      <td>0.004799</td>\n",
       "    </tr>\n",
       "    <tr>\n",
       "      <th>20</th>\n",
       "      <td>ячеистая упаковка</td>\n",
       "      <td>0.005609</td>\n",
       "      <td>0.001061</td>\n",
       "      <td>0.003385</td>\n",
       "      <td>0.002778</td>\n",
       "      <td>0.002273</td>\n",
       "    </tr>\n",
       "  </tbody>\n",
       "</table>\n",
       "</div>"
      ],
      "text/plain": [
       "                              tare      real       clf       knn      knn2  \\\n",
       "0                  пакет без формы  0.222102  0.288709  0.220409  0.209194   \n",
       "1                          бутылка  0.183871  0.203637  0.184339  0.235261   \n",
       "2                          коробка  0.103228  0.103359  0.096236  0.096287   \n",
       "3              пакет прямоугольный  0.086130  0.073402  0.090326  0.086032   \n",
       "4                          обертка  0.079143  0.087093  0.072796  0.072190   \n",
       "5            банка неметаллическая  0.055058  0.061581  0.049861  0.055216   \n",
       "6                        стаканчик  0.050925  0.043445  0.040414  0.030311   \n",
       "7              банка металлическая  0.045193  0.035817  0.041121  0.043799   \n",
       "8               вакуумная упаковка  0.026348  0.024400  0.063349  0.039808   \n",
       "9               усадочная упаковка  0.024429  0.009245  0.020056  0.014398   \n",
       "10                       контейнер  0.021748  0.015559  0.024804  0.023289   \n",
       "11                           пачка  0.017000  0.004446  0.013943  0.011821   \n",
       "12                           лоток  0.015450  0.009346  0.018439  0.014600   \n",
       "13                            туба  0.014490  0.016115  0.010356  0.010356   \n",
       "14                      гофрокороб  0.010308  0.002880  0.012074  0.016772   \n",
       "15              колбасная оболочка  0.009742  0.006820  0.008689  0.009396   \n",
       "16                        тортница  0.007971  0.005607  0.012276  0.009295   \n",
       "17                    без упаковки  0.007922  0.000859  0.006820  0.008740   \n",
       "18  упаковка с газовым наполнением  0.007110  0.004900  0.005709  0.005860   \n",
       "19                           ведро  0.006224  0.001718  0.004597  0.004597   \n",
       "20               ячеистая упаковка  0.005609  0.001061  0.003385  0.002778   \n",
       "\n",
       "          rf  \n",
       "0   0.304521  \n",
       "1   0.202273  \n",
       "2   0.092751  \n",
       "3   0.075322  \n",
       "4   0.063905  \n",
       "5   0.057388  \n",
       "6   0.034403  \n",
       "7   0.041172  \n",
       "8   0.022076  \n",
       "9   0.011670  \n",
       "10  0.018591  \n",
       "11  0.010508  \n",
       "12  0.011063  \n",
       "13  0.011720  \n",
       "14  0.006820  \n",
       "15  0.008487  \n",
       "16  0.008841  \n",
       "17  0.003991  \n",
       "18  0.007426  \n",
       "19  0.004799  \n",
       "20  0.002273  "
      ]
     },
     "execution_count": 176,
     "metadata": {},
     "output_type": "execute_result"
    }
   ],
   "source": [
    "df = pd.DataFrame(columns=['tare'])\n",
    "df.tare = data.tare.value_counts().keys()\n",
    "dfreal = pd.DataFrame({'real' :data.tare.value_counts(normalize=True).values, 'tare': data.tare.value_counts().keys()})\n",
    "dfclf = pd.DataFrame({'clf' : df_clf.predicted.value_counts(normalize=True).values, 'tare': df_clf.predicted.value_counts().keys()})\n",
    "dfknn = pd.DataFrame({'knn' : df_knn.predicted.value_counts(normalize=True).values, 'tare': df_knn.predicted.value_counts().keys()})\n",
    "dfknn2 = pd.DataFrame({'knn2' : df_knn2.predicted.value_counts(normalize=True).values, 'tare': df_knn2.predicted.value_counts().keys()})\n",
    "dfrf = pd.DataFrame({'rf' : df_rf.predicted.value_counts(normalize=True).values, 'tare': df_rf.predicted.value_counts().keys()})\n",
    "df = df.join(dfreal.set_index('tare'), on='tare')\n",
    "df = df.join(dfclf.set_index('tare'), on='tare')\n",
    "df = df.join(dfknn.set_index('tare'), on='tare')\n",
    "df = df.join(dfknn2.set_index('tare'), on='tare')\n",
    "df = df.join(dfrf.set_index('tare'), on='tare')\n",
    "df"
   ]
  },
  {
   "cell_type": "code",
   "execution_count": 191,
   "metadata": {},
   "outputs": [
    {
     "data": {
      "text/plain": [
       "<matplotlib.axes._subplots.AxesSubplot at 0x7fa178e5b198>"
      ]
     },
     "execution_count": 191,
     "metadata": {},
     "output_type": "execute_result"
    },
    {
     "data": {
      "image/png": "[encoded data removed]",
      "text/plain": [
       "<matplotlib.figure.Figure at 0x7fa178e6c550>"
      ]
     },
     "metadata": {},
     "output_type": "display_data"
    }
   ],
   "source": [
    "df.plot(x=df.tare, kind='bar', figsize=(20,10))\n"
   ]
  },
  {
   "cell_type": "code",
   "execution_count": 12,
   "metadata": {},
   "outputs": [
    {
     "data": {
      "text/plain": [
       "<matplotlib.axes._subplots.AxesSubplot at 0x7f7cb2cea908>"
      ]
     },
     "execution_count": 12,
     "metadata": {},
     "output_type": "execute_result"
    },
    {
     "data": {
      "image/png": "[encoded data removed]",
      "text/plain": [
       "<matplotlib.figure.Figure at 0x7f7cb2c0e2b0>"
      ]
     },
     "metadata": {},
     "output_type": "display_data"
    }
   ],
   "source": [
    "# посмотрим распределение аидов упаковок у различных видов алгоритмов\n",
    "data.tare.value_counts().plot(kind='bar', figsize=(10,5))"
   ]
  },
  {
   "cell_type": "code",
   "execution_count": 13,
   "metadata": {},
   "outputs": [
    {
     "data": {
      "text/plain": [
       "<matplotlib.axes._subplots.AxesSubplot at 0x7f7cbbff2828>"
      ]
     },
     "execution_count": 13,
     "metadata": {},
     "output_type": "execute_result"
    },
    {
     "data": {
      "image/png": "[encoded data removed]",
      "text/plain": [
       "<matplotlib.figure.Figure at 0x7f7cbbf2d470>"
      ]
     },
     "metadata": {},
     "output_type": "display_data"
    }
   ],
   "source": [
    "df_clf.predicted.value_counts().plot(kind='bar', figsize=(10,5))"
   ]
  },
  {
   "cell_type": "code",
   "execution_count": 14,
   "metadata": {},
   "outputs": [
    {
     "data": {
      "text/plain": [
       "<matplotlib.axes._subplots.AxesSubplot at 0x7f7cbba5c8d0>"
      ]
     },
     "execution_count": 14,
     "metadata": {},
     "output_type": "execute_result"
    },
    {
     "data": {
      "image/png": "[encoded data removed]",
      "text/plain": [
       "<matplotlib.figure.Figure at 0x7f7cbba72a90>"
      ]
     },
     "metadata": {},
     "output_type": "display_data"
    }
   ],
   "source": [
    "df_knn.predicted.value_counts().plot(kind='bar', figsize=(10,5))"
   ]
  },
  {
   "cell_type": "code",
   "execution_count": 15,
   "metadata": {},
   "outputs": [
    {
     "data": {
      "text/plain": [
       "<matplotlib.axes._subplots.AxesSubplot at 0x7f7cb2e8b7f0>"
      ]
     },
     "execution_count": 15,
     "metadata": {},
     "output_type": "execute_result"
    },
    {
     "data": {
      "image/png": "[encoded data removed]",
      "text/plain": [
       "<matplotlib.figure.Figure at 0x7f7cb2eb16a0>"
      ]
     },
     "metadata": {},
     "output_type": "display_data"
    }
   ],
   "source": [
    "df_knn2.predicted.value_counts().plot(kind='bar', figsize=(10,5))"
   ]
  },
  {
   "cell_type": "code",
   "execution_count": 16,
   "metadata": {},
   "outputs": [
    {
     "data": {
      "text/plain": [
       "<matplotlib.axes._subplots.AxesSubplot at 0x7f7cbc3c8160>"
      ]
     },
     "execution_count": 16,
     "metadata": {},
     "output_type": "execute_result"
    },
    {
     "data": {
      "image/png": "[encoded data removed]",
      "text/plain": [
       "<matplotlib.figure.Figure at 0x7f7cbc405550>"
      ]
     },
     "metadata": {},
     "output_type": "display_data"
    }
   ],
   "source": [
    "df_rf.predicted.value_counts().plot(kind='bar', figsize=(10,5))"
   ]
  },
  {
   "cell_type": "markdown",
   "metadata": {},
   "source": [
    "Подбор параметров"
   ]
  },
  {
   "cell_type": "code",
   "execution_count": 29,
   "metadata": {},
   "outputs": [],
   "source": [
    "cv = CountVectorizer()\n",
    "X_train_counts = cv.fit_transform(data.name)\n",
    "y_train = data.tare"
   ]
  },
  {
   "cell_type": "code",
   "execution_count": 61,
   "metadata": {},
   "outputs": [],
   "source": [
    "# списки признаков для проверки\n",
    "n_naigbors = [1,2,3,4,5,6,7,8,9,10,15,20]\n",
    "weights_s = ['uniform', 'distance']\n",
    "n_trees = list(range(100,1000,100))\n",
    "max_depths = (list(range(100,1000,100))) + ['auto']"
   ]
  },
  {
   "cell_type": "code",
   "execution_count": 10,
   "metadata": {},
   "outputs": [],
   "source": [
    "# создаём классификаторы\n",
    "job_knn = KNeighborsClassifier(n_jobs=-1)\n",
    "knn_grid = GridSearchCV(job_knn, param_grid={'n_neighbors': n_naigbors, 'weights': weights_s})"
   ]
  },
  {
   "cell_type": "code",
   "execution_count": 63,
   "metadata": {},
   "outputs": [],
   "source": [
    "job_rf = RandomForestClassifier(n_jobs=2)\n",
    "rf_grid = GridSearchCV(job_rf, param_grid={'n_estimators': n_trees, 'max_depth': max_depths})"
   ]
  },
  {
   "cell_type": "code",
   "execution_count": null,
   "metadata": {},
   "outputs": [],
   "source": [
    "%%time \n",
    "# обучаем несколько раз\n",
    "knn_grid.fit(X_train_counts, y_train)"
   ]
  },
  {
   "cell_type": "code",
   "execution_count": null,
   "metadata": {},
   "outputs": [],
   "source": [
    "%%time\n",
    "rf_grid.fit(X_train_counts, y_train)"
   ]
  },
  {
   "cell_type": "code",
   "execution_count": null,
   "metadata": {},
   "outputs": [],
   "source": [
    "# выводим наилучшие значения параметров и соответствующее им качество\n",
    "print('knn naigbours: {} : {}'.format(knn_grid.best_params_, knn_grid.best_score_))\n",
    "print('rf trees: {} : {}'.format(rf_grid.best_params_, rf_grid.best_score_))"
   ]
  },
  {
   "cell_type": "code",
   "execution_count": 12,
   "metadata": {},
   "outputs": [
    {
     "name": "stdout",
     "output_type": "stream",
     "text": [
      "clf:['пакет прямоугольный']\n",
      "rf :['пакет прямоугольный']\n",
      "knn:['пакет прямоугольный']\n",
      "knn2:['пакет прямоугольный']\n"
     ]
    }
   ],
   "source": [
    "test_probe = pd.DataFrame([\"сок добрый 1л\"])[0]\n",
    "print('clf:{}'.format(clf.predict(cv.transform(test_probe))))\n",
    "print('rf :{}'.format(rf.predict(cv.transform(test_probe))))\n",
    "print('knn:{}'.format(knn.predict(cv.transform(test_probe))))\n",
    "print('knn2:{}'.format(knn2.predict(cv.transform(test_probe)))) "
   ]
  },
  {
   "cell_type": "code",
   "execution_count": null,
   "metadata": {},
   "outputs": [],
   "source": []
  }
 ],
 "metadata": {
  "kernelspec": {
   "display_name": "Python 3",
   "language": "python",
   "name": "python3"
  },
  "language_info": {
   "codemirror_mode": {
    "name": "ipython",
    "version": 3
   },
   "file_extension": ".py",
   "mimetype": "text/x-python",
   "name": "python",
   "nbconvert_exporter": "python",
   "pygments_lexer": "ipython3",
   "version": "3.7.0"
  }
 },
 "nbformat": 4,
 "nbformat_minor": 2
}
